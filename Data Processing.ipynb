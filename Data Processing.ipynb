{
 "cells": [
  {
   "cell_type": "code",
   "execution_count": 1,
   "metadata": {},
   "outputs": [],
   "source": [
    "import cv2\n",
    "from glob import glob\n",
    "from tqdm import tqdm"
   ]
  },
  {
   "cell_type": "code",
   "execution_count": 2,
   "metadata": {},
   "outputs": [],
   "source": [
    "src_files = glob('preprocessed_data/*/*.png')"
   ]
  },
  {
   "cell_type": "code",
   "execution_count": 3,
   "metadata": {},
   "outputs": [
    {
     "data": {
      "text/plain": [
       "403"
      ]
     },
     "execution_count": 3,
     "metadata": {},
     "output_type": "execute_result"
    }
   ],
   "source": [
    "len(src_files)"
   ]
  },
  {
   "cell_type": "code",
   "execution_count": 6,
   "metadata": {},
   "outputs": [
    {
     "data": {
      "text/plain": [
       "['preprocessed_data/secondary/94.png',\n",
       " 'preprocessed_data/secondary/50.png',\n",
       " 'preprocessed_data/secondary/71.png',\n",
       " 'preprocessed_data/secondary/100.png',\n",
       " 'preprocessed_data/secondary/8.png']"
      ]
     },
     "execution_count": 6,
     "metadata": {},
     "output_type": "execute_result"
    }
   ],
   "source": [
    "src_files[395:400]"
   ]
  },
  {
   "cell_type": "code",
   "execution_count": 10,
   "metadata": {},
   "outputs": [],
   "source": [
    "from random import random"
   ]
  },
  {
   "cell_type": "code",
   "execution_count": 11,
   "metadata": {},
   "outputs": [
    {
     "data": {
      "text/plain": [
       "0.9820969633023994"
      ]
     },
     "execution_count": 11,
     "metadata": {},
     "output_type": "execute_result"
    }
   ],
   "source": [
    "random()"
   ]
  },
  {
   "cell_type": "code",
   "execution_count": 13,
   "metadata": {},
   "outputs": [
    {
     "name": "stderr",
     "output_type": "stream",
     "text": [
      "100%|██████████| 403/403 [00:04<00:00, 93.00it/s]\n"
     ]
    }
   ],
   "source": [
    "count=1\n",
    "\n",
    "for file in tqdm(src_files):\n",
    "    try:\n",
    "        im = cv2.imread(file)\n",
    "        im = im[35:-35, :]\n",
    "        resized_im = cv2.resize(im, (256, 256))\n",
    "        r = random()\n",
    "        if r<0.8:\n",
    "            cv2.imwrite(\"new_data/train/\"+file.split('/')[1]+\"/\"+str(count)+\".png\", resized_im)\n",
    "        elif r<0.9:\n",
    "            cv2.imwrite(\"new_data/test/\"+file.split('/')[1]+\"/\"+str(count)+\".png\", resized_im)\n",
    "        else:\n",
    "            cv2.imwrite(\"new_data/valid/\"+file.split('/')[1]+\"/\"+str(count)+\".png\", resized_im)\n",
    "        count+=1\n",
    "    except:\n",
    "        pass"
   ]
  },
  {
   "cell_type": "code",
   "execution_count": null,
   "metadata": {},
   "outputs": [],
   "source": []
  }
 ],
 "metadata": {
  "kernelspec": {
   "display_name": "Python 3",
   "language": "python",
   "name": "python3"
  },
  "language_info": {
   "codemirror_mode": {
    "name": "ipython",
    "version": 3
   },
   "file_extension": ".py",
   "mimetype": "text/x-python",
   "name": "python",
   "nbconvert_exporter": "python",
   "pygments_lexer": "ipython3",
   "version": "3.7.4"
  }
 },
 "nbformat": 4,
 "nbformat_minor": 2
}
